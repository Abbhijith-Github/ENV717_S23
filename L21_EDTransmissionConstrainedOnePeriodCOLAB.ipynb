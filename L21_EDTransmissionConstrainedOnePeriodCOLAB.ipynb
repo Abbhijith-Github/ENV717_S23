{
  "cells": [
    {
      "cell_type": "markdown",
      "metadata": {
        "id": "view-in-github",
        "colab_type": "text"
      },
      "source": [
        "<a href=\"https://colab.research.google.com/github/dpatinoecheverri/ENV717_S23/blob/main/L21_EDTransmissionConstrainedOnePeriodCOLAB.ipynb\" target=\"_parent\"><img src=\"https://colab.research.google.com/assets/colab-badge.svg\" alt=\"Open In Colab\"/></a>"
      ]
    },
    {
      "cell_type": "markdown",
      "id": "45be5654",
      "metadata": {
        "id": "45be5654"
      },
      "source": [
        "# ENV717 L21 - TRANSMISSION-CONSTRAINED ONE-PERIOD ECONOMIC-DISPATCH - COLAB"
      ]
    },
    {
      "cell_type": "markdown",
      "id": "18ad7778",
      "metadata": {
        "id": "18ad7778"
      },
      "source": [
        "###### Data from Handout Lessons 16 - 18\n",
        "##### Finds the Economic Dispatch in a network of three buses, for one time period\n",
        "##### Power Fow is constrainted with KVL around the loop and bus power-balance equations\n",
        "##### This model is equivalent to the one implemented in Excel-Solver during L18"
      ]
    },
    {
      "cell_type": "code",
      "execution_count": 9,
      "id": "ffe9c5b4",
      "metadata": {
        "colab": {
          "base_uri": "https://localhost:8080/"
        },
        "id": "ffe9c5b4",
        "outputId": "fc4fcfc5-42d0-4411-8929-c5bc977f09c2"
      },
      "outputs": [
        {
          "output_type": "stream",
          "name": "stdout",
          "text": [
            "Drive already mounted at /content/drive; to attempt to forcibly remount, call drive.mount(\"/content/drive\", force_remount=True).\n",
            "Looking in indexes: https://pypi.org/simple, https://us-python.pkg.dev/colab-wheels/public/simple/\n",
            "Requirement already satisfied: pyomo in /usr/local/lib/python3.9/dist-packages (6.5.0)\n",
            "Requirement already satisfied: ply in /usr/local/lib/python3.9/dist-packages (from pyomo) (3.11)\n"
          ]
        }
      ],
      "source": [
        "#This code chunk is only necessary in COLAB\n",
        "#1. Connect to google drive\n",
        "from google.colab import drive\n",
        "drive.mount('/content/drive')\n",
        "#3. Change the working directory to the folder where all the colab notebooks for this class will be stored\n",
        "os.chdir('/content/drive/MyDrive/Colab Notebooks/ENV717-S2023')\n",
        "#3. Install pyomo\n",
        "!pip install pyomo\n",
        "#4. Install the solver\n",
        "!apt-get install -y -qq glpk-utils"
      ]
    },
    {
      "cell_type": "code",
      "execution_count": 12,
      "id": "4f1c411e",
      "metadata": {
        "id": "4f1c411e"
      },
      "outputs": [],
      "source": [
        "import os\n",
        "import pandas as pd\n",
        "import numpy as np\n",
        "import matplotlib.pyplot as plt\n",
        "from pyomo.environ import *\n",
        "opt = SolverFactory('glpk') #The CPLEX license is free for students - In Colab you can use CBC"
      ]
    },
    {
      "cell_type": "code",
      "execution_count": 13,
      "id": "4ed9cb3a",
      "metadata": {
        "id": "4ed9cb3a"
      },
      "outputs": [],
      "source": [
        "#Read data\n",
        "df_genData=pd.read_excel(io=\"L21-EDOnePeriodData.xlsx\",sheet_name=\"GeneratorsData\",skiprows=1) #read data from generators tab and skip the first row\n",
        "df_loadsData=pd.read_excel(io=\"L21-EDOnePeriodData.xlsx\",sheet_name=\"LoadsData\",skiprows=1) #read data from loads tab and skip the first row\n",
        "df_linesData=pd.read_excel(io=\"L21-EDOnePeriodData.xlsx\",sheet_name=\"LinesData\",skiprows=1) #read data from demand tab and skip the first row"
      ]
    },
    {
      "cell_type": "code",
      "execution_count": 14,
      "id": "925e990c",
      "metadata": {
        "colab": {
          "base_uri": "https://localhost:8080/"
        },
        "id": "925e990c",
        "outputId": "f1632f2f-76dd-464e-9061-2bfa9577d8bc"
      },
      "outputs": [
        {
          "output_type": "stream",
          "name": "stdout",
          "text": [
            "We read data for 4 power generating units\n",
            "We read data for 3 nodes\n",
            "We read data for 3 transmission lines\n"
          ]
        }
      ],
      "source": [
        "#define the size of the sets\n",
        "NumGens=len(df_genData)\n",
        "NumNodes=len(df_loadsData)\n",
        "NumLines=len(df_linesData)\n",
        "#T=len(df_demandData)\n",
        "print(\"We read data for\", NumGens, \"power generating units\")\n",
        "print(\"We read data for\", NumNodes, \"nodes\")\n",
        "print(\"We read data for\", NumLines, \"transmission lines\")"
      ]
    },
    {
      "cell_type": "code",
      "execution_count": 15,
      "id": "670ac82a",
      "metadata": {
        "id": "670ac82a"
      },
      "outputs": [],
      "source": [
        "#Define Indexes\n",
        "G=np.array([g for g in range(0,NumGens)]) \n",
        "N=np.array([n for n in range(0,NumNodes)])\n",
        "L=np.array([l for l in range(0,NumLines)])"
      ]
    },
    {
      "cell_type": "code",
      "execution_count": 16,
      "id": "399505a0",
      "metadata": {
        "colab": {
          "base_uri": "https://localhost:8080/"
        },
        "id": "399505a0",
        "outputId": "921835af-1df3-42eb-ed2f-72a7fc1296c5"
      },
      "outputs": [
        {
          "output_type": "execute_result",
          "data": {
            "text/plain": [
              "Index(['GenName', 'Node', 'FixedCost', 'SDCost', 'SUCost', 'VarCost', 'MaxGen',\n",
              "       'MinGen', 'RampDown', 'RampSD', 'RampSU', 'RampUp', 'MinUpTime',\n",
              "       'MinDownTime', 'ReqUp', 'ReqDown', 'InitialStatus', 'InitialGen'],\n",
              "      dtype='object')"
            ]
          },
          "metadata": {},
          "execution_count": 16
        }
      ],
      "source": [
        "df_genData.columns"
      ]
    },
    {
      "cell_type": "code",
      "execution_count": 17,
      "id": "254474ec",
      "metadata": {
        "id": "254474ec"
      },
      "outputs": [],
      "source": [
        "##Declare the generator's parameters and assign them the data we read before\n",
        "VarCost=df_genData.loc[:,'VarCost'].to_numpy()\n",
        "PMax=df_genData.loc[:,'MaxGen'].to_numpy()\n",
        "PMin=df_genData.loc[:,'MinGen'].to_numpy()\n",
        "GenNode=df_genData.loc[:,'Node'].to_numpy()"
      ]
    },
    {
      "cell_type": "code",
      "execution_count": 18,
      "id": "008a24fb",
      "metadata": {
        "colab": {
          "base_uri": "https://localhost:8080/"
        },
        "id": "008a24fb",
        "outputId": "69c07a8d-f772-495c-9e6b-1fa668a98661"
      },
      "outputs": [
        {
          "output_type": "execute_result",
          "data": {
            "text/plain": [
              "Index(['LineName', 'NodeFrom', 'NodeTo', 'Reactance', 'Capacity'], dtype='object')"
            ]
          },
          "metadata": {},
          "execution_count": 18
        }
      ],
      "source": [
        "df_linesData.columns  #In the data we defined 3 lines as: L1-2, L2-3, and L3-1. We could have defined them in other way, but this is convenient for the KVL equation"
      ]
    },
    {
      "cell_type": "code",
      "execution_count": 19,
      "id": "4efda484",
      "metadata": {
        "id": "4efda484"
      },
      "outputs": [],
      "source": [
        "##Declare the transmission lines' parameters and assign them the data we read before\n",
        "NodeFrom=df_linesData.loc[:,'NodeFrom'].to_numpy()\n",
        "NodeTo=df_linesData.loc[:,'NodeTo'].to_numpy()\n",
        "LineReactance=df_linesData.loc[:,'Reactance'].to_numpy()\n",
        "LineCapacity=df_linesData.loc[:,'Capacity'].to_numpy()"
      ]
    },
    {
      "cell_type": "code",
      "execution_count": 20,
      "id": "367ecab9",
      "metadata": {
        "colab": {
          "base_uri": "https://localhost:8080/"
        },
        "id": "367ecab9",
        "outputId": "ef9725ea-496d-4bd9-f3a4-da0dadbb938e"
      },
      "outputs": [
        {
          "output_type": "execute_result",
          "data": {
            "text/plain": [
              "Index(['LoadName', 'Node', 'Demand'], dtype='object')"
            ]
          },
          "metadata": {},
          "execution_count": 20
        }
      ],
      "source": [
        "df_loadsData.columns"
      ]
    },
    {
      "cell_type": "code",
      "execution_count": 21,
      "id": "1dc1a2dc",
      "metadata": {
        "id": "1dc1a2dc"
      },
      "outputs": [],
      "source": [
        "##Declare the loads' parameters and assign them the data we read before\n",
        "LoadBus=df_loadsData.loc[:,'Node'].to_numpy()\n",
        "Demand=df_loadsData.loc[:,'Demand'].to_numpy()"
      ]
    },
    {
      "cell_type": "code",
      "execution_count": 22,
      "id": "076079a1",
      "metadata": {
        "id": "076079a1"
      },
      "outputs": [],
      "source": [
        "#Define a function IndicatorMatrix that creates indicator matrices to relate generators with their node and lines with the nodes\n",
        "#dataRows is a column vector of NumRows rows. Each element says the column where this row should be a one in the final matrix\n",
        "def IndicatorMatrix(NumRows,NumCols,dataRows):\n",
        "    matrix = np.zeros((NumRows,NumCols),dtype=int)\n",
        "    for i in range(0,NumRows):\n",
        "        matrix[i,dataRows[i]-1]=1\n",
        "    return matrix"
      ]
    },
    {
      "cell_type": "code",
      "execution_count": 23,
      "id": "f515085d",
      "metadata": {
        "id": "f515085d"
      },
      "outputs": [],
      "source": [
        "#Create indicator matrices using the function defined above\n",
        "#GeneratorInBus is a matrix of G rows and N columns that has 1 in the position g,n if generator g is AT node N, 0 otherwise\n",
        "GeneratorInBus=IndicatorMatrix(NumGens,NumNodes,GenNode)\n",
        "#LineFromBus is an indicator matrix of L rows and N columns that has 1 in the position l,n if line l departs FROM node N, 0 otherwise\n",
        "LineFromBus=IndicatorMatrix(NumLines,NumNodes,NodeFrom)\n",
        "#LineToBus is an indicator matrix of L rows and N columns that has 1 in the position l,n if line l arrives TO node N, 0 otherwise\n",
        "LineToBus=IndicatorMatrix(NumLines,NumNodes,NodeTo)"
      ]
    },
    {
      "cell_type": "code",
      "execution_count": 24,
      "id": "2182a4a2",
      "metadata": {
        "id": "2182a4a2"
      },
      "outputs": [],
      "source": [
        "#UC MODEL\n",
        "def ED():\n",
        "    m=ConcreteModel()\n",
        "    #m.dual = Suffix(direction=Suffix.IMPORT_EXPORT)\n",
        "    m.dual = Suffix(direction=Suffix.IMPORT)#Create a 'dual' suffix component on the instance so the solver plugin will know which suffixes to collect\n",
        "    m.N=Set(initialize=N)\n",
        "    m.L=Set(initialize=L)\n",
        "    m.G=Set(initialize=G)\n",
        "    m.p=Var(m.G, bounds = (0,3500))#This is power generation. Could also declare as m.p=Var(m.G,within=PositiveReals)\n",
        "    m.flow=Var(m.L, bounds = (-1000,1000))#This is power flow on a line\n",
        "    m.system_cost=Objective(expr=sum(m.p[g]*VarCost[g] for g in m.G), sense=minimize)#Objective is to minimize costs\n",
        "    m.MaxGeneration=Constraint(m.G, rule=lambda m, g:  m.p[g] <= PMax[g])\n",
        "    m.NodePowerBalanceConstraint=Constraint(m.N, rule=lambda m, n: sum(LineToBus[l,n]*m.flow[l] for l in L)-sum(LineFromBus[l,n]*m.flow[l] for l in L)+sum(GeneratorInBus[g,n]*m.p[g] for g in G) == Demand[n])\n",
        "    m.KVLAroundLoopConstraint=Constraint(rule=lambda m: sum(LineReactance[l]*m.flow[l] for l in L)==0)#Note that in the data we defined the lines L1-2, L2-3, and L3,1 . That way the coefficient of each one in the KVL loop is positive 1.\n",
        "    m.MaxFlow=Constraint(m.L, rule=lambda m, l:  m.flow[l] <= LineCapacity[l])\n",
        "    m.MaxCounterFlow=Constraint(m.L, rule=lambda m, l:  m.flow[l] >= -LineCapacity[l])\n",
        "    return m"
      ]
    },
    {
      "cell_type": "code",
      "execution_count": 25,
      "id": "12df3ab3",
      "metadata": {
        "colab": {
          "base_uri": "https://localhost:8080/"
        },
        "id": "12df3ab3",
        "outputId": "5cfc3cb9-0b5d-44a5-b1e9-3a2aa5e6bc88"
      },
      "outputs": [
        {
          "output_type": "stream",
          "name": "stdout",
          "text": [
            "# ==========================================================\n",
            "# = Solver Results                                         =\n",
            "# ==========================================================\n",
            "# ----------------------------------------------------------\n",
            "#   Problem Information\n",
            "# ----------------------------------------------------------\n",
            "Problem: \n",
            "- Name: unknown\n",
            "  Lower bound: 2835.0\n",
            "  Upper bound: 2835.0\n",
            "  Number of objectives: 1\n",
            "  Number of constraints: 15\n",
            "  Number of variables: 8\n",
            "  Number of nonzeros: 24\n",
            "  Sense: minimize\n",
            "# ----------------------------------------------------------\n",
            "#   Solver Information\n",
            "# ----------------------------------------------------------\n",
            "Solver: \n",
            "- Status: ok\n",
            "  Termination condition: optimal\n",
            "  Statistics: \n",
            "    Branch and bound: \n",
            "      Number of bounded subproblems: 0\n",
            "      Number of created subproblems: 0\n",
            "  Error rc: 0\n",
            "  Time: 0.013904094696044922\n",
            "# ----------------------------------------------------------\n",
            "#   Solution Information\n",
            "# ----------------------------------------------------------\n",
            "Solution: \n",
            "- number of solutions: 0\n",
            "  number of solutions displayed: 0\n"
          ]
        }
      ],
      "source": [
        "m=ED()\n",
        "SolverFactory('glpk').solve(m).write() # Instead of this line, write \"opt.solve(m)\" if model's details are not important"
      ]
    },
    {
      "cell_type": "code",
      "execution_count": 26,
      "id": "e2543438",
      "metadata": {
        "scrolled": false,
        "colab": {
          "base_uri": "https://localhost:8080/"
        },
        "id": "e2543438",
        "outputId": "bf1a16dc-319c-4424-f0e6-f071786d713c"
      },
      "outputs": [
        {
          "output_type": "stream",
          "name": "stdout",
          "text": [
            "SOLUTION\n",
            "The total system cost is = $ 2835.0\n",
            "Generation in MW\n",
            "generator  1 = 50 \n",
            "generator  2 = 285 \n",
            "generator  3 = 0 \n",
            "generator  4 = 75 \n",
            "Flow on transmission lines in MW\n",
            "line  1 = 126 \n",
            "line  2 = 66 \n",
            "line  3 = -159 \n",
            "LMPs in $/MWh\n",
            "Node  1 = 7.50\n",
            "Node  2 = 11.25\n",
            "Node  3 = 10.00\n"
          ]
        }
      ],
      "source": [
        "print('SOLUTION')\n",
        "print('The total system cost is = $',m.system_cost())\n",
        "print('Generation in MW')\n",
        "for g in G:\n",
        "        print(\"generator {0:2d} = {1:.0f} \".format(g+1, m.p[g]()))\n",
        "print('Flow on transmission lines in MW')\n",
        "for l in L:\n",
        "        print(\"line {0:2d} = {1:.0f} \".format(l+1, m.flow[l]()))\n",
        "print('LMPs in $/MWh')\n",
        "for n in N:\n",
        "        print(\"Node {0:2d} = {1:.2f}\".format(n+1,m.dual[m.NodePowerBalanceConstraint[n]]))"
      ]
    },
    {
      "cell_type": "code",
      "execution_count": 27,
      "id": "4b6b4ee4",
      "metadata": {
        "colab": {
          "base_uri": "https://localhost:8080/",
          "height": 557
        },
        "id": "4b6b4ee4",
        "outputId": "b9b126bb-6396-4be6-b44a-0c09ca6b26d4"
      },
      "outputs": [
        {
          "output_type": "display_data",
          "data": {
            "text/plain": [
              "<Figure size 800x550 with 4 Axes>"
            ],
            "image/png": "[encoded data removed]"
          },
          "metadata": {}
        }
      ],
      "source": [
        "#Graph solution\n",
        "fig, ax = plt.subplots(max(G)+1, 1, figsize=(8, 1.5*max(G)+1))\n",
        "for g in G:\n",
        "    ax[g].bar(1, [m.p[g]()])\n",
        "    ax[g].set_xlim(0.99,1)\n",
        "    ax[g].set_ylim(0, 1.1*PMax[g])\n",
        "    ax[g].plot(ax[g].get_xlim(), np.array([PMax[g], PMax[g]]), 'r--')\n",
        "    ax[g].plot(ax[g].get_xlim(), np.array([PMin[g], PMin[g]]), 'r--')\n",
        "    ax[g].set_title('Unit ' + str(g+1))\n",
        "fig.tight_layout()"
      ]
    }
  ],
  "metadata": {
    "kernelspec": {
      "display_name": "Python 3",
      "language": "python",
      "name": "python3"
    },
    "language_info": {
      "codemirror_mode": {
        "name": "ipython",
        "version": 3
      },
      "file_extension": ".py",
      "mimetype": "text/x-python",
      "name": "python",
      "nbconvert_exporter": "python",
      "pygments_lexer": "ipython3",
      "version": "3.8.8"
    },
    "colab": {
      "provenance": [],
      "include_colab_link": true
    }
  },
  "nbformat": 4,
  "nbformat_minor": 5
}