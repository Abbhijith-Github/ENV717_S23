{
  "cells": [
    {
      "cell_type": "markdown",
      "metadata": {
        "id": "view-in-github",
        "colab_type": "text"
      },
      "source": [
        "<a href=\"https://colab.research.google.com/github/dpatinoecheverri/ENV717_S23/blob/main/L9_UC_NoRampingConstraints_NoSDSUCosts_NoReservesCOLAB.ipynb\" target=\"_parent\"><img src=\"https://colab.research.google.com/assets/colab-badge.svg\" alt=\"Open In Colab\"/></a>"
      ]
    },
    {
      "cell_type": "markdown",
      "id": "45be5654",
      "metadata": {
        "id": "45be5654"
      },
      "source": [
        "# ENV717 L9 - UNIT COMMITMENT PROBLEM - SIMPLIFIED"
      ]
    },
    {
      "cell_type": "markdown",
      "id": "18ad7778",
      "metadata": {
        "id": "18ad7778"
      },
      "source": [
        "#### Data from Handout Lessons 8 & 9\n",
        "##### Constraints Included:  Pmin, Pmax, Demand Balance constraints\n",
        "#### Costs included: Fixed and variable\n",
        "##### Work on your own to include all that is missing:  a) StartUp and ShutDown costs. b)Ramping constraints. c)Reserve requirements d) min up time e) min downtime"
      ]
    },
    {
      "cell_type": "markdown",
      "id": "2d2576a7",
      "metadata": {
        "id": "2d2576a7"
      },
      "source": [
        "### Mount the drive to colab"
      ]
    },
    {
      "cell_type": "code",
      "execution_count": 1,
      "id": "54d6913c",
      "metadata": {
        "colab": {
          "base_uri": "https://localhost:8080/"
        },
        "id": "54d6913c",
        "outputId": "672fc3a2-399e-440f-c90e-3839966128a7"
      },
      "outputs": [
        {
          "output_type": "stream",
          "name": "stdout",
          "text": [
            "Mounted at /content/gdrive\n"
          ]
        }
      ],
      "source": [
        "#Connect to google drive\n",
        "from google.colab import drive\n",
        "drive.mount('/content/gdrive')\n",
        "#save path\n",
        "path = \"/content/gdrive/MyDrive/ENV717-S2023/\""
      ]
    },
    {
      "cell_type": "markdown",
      "id": "30d0641f",
      "metadata": {
        "id": "30d0641f"
      },
      "source": [
        "### Install pyomo"
      ]
    },
    {
      "cell_type": "code",
      "execution_count": 2,
      "id": "1633f63a",
      "metadata": {
        "colab": {
          "base_uri": "https://localhost:8080/"
        },
        "id": "1633f63a",
        "outputId": "828307fb-406d-4d6a-9203-28a341aeece2"
      },
      "outputs": [
        {
          "output_type": "stream",
          "name": "stdout",
          "text": [
            "Looking in indexes: https://pypi.org/simple, https://us-python.pkg.dev/colab-wheels/public/simple/\n",
            "Collecting pyomo\n",
            "  Downloading Pyomo-6.4.4-cp38-cp38-manylinux_2_17_x86_64.manylinux2014_x86_64.whl (11.1 MB)\n",
            "\u001b[2K     \u001b[90m━━━━━━━━━━━━━━━━━━━━━━━━━━━━━━━━━━━━━━━━\u001b[0m \u001b[32m11.1/11.1 MB\u001b[0m \u001b[31m79.1 MB/s\u001b[0m eta \u001b[36m0:00:00\u001b[0m\n",
            "\u001b[?25hCollecting ply\n",
            "  Downloading ply-3.11-py2.py3-none-any.whl (49 kB)\n",
            "\u001b[2K     \u001b[90m━━━━━━━━━━━━━━━━━━━━━━━━━━━━━━━━━━━━━━━━\u001b[0m \u001b[32m49.6/49.6 KB\u001b[0m \u001b[31m7.2 MB/s\u001b[0m eta \u001b[36m0:00:00\u001b[0m\n",
            "\u001b[?25hInstalling collected packages: ply, pyomo\n",
            "Successfully installed ply-3.11 pyomo-6.4.4\n"
          ]
        }
      ],
      "source": [
        "!pip install pyomo"
      ]
    },
    {
      "cell_type": "markdown",
      "id": "cf3731ce",
      "metadata": {
        "id": "cf3731ce"
      },
      "source": [
        "### Install the glpk solver"
      ]
    },
    {
      "cell_type": "code",
      "execution_count": 3,
      "id": "cbfa4bec",
      "metadata": {
        "colab": {
          "base_uri": "https://localhost:8080/"
        },
        "id": "cbfa4bec",
        "outputId": "48be586d-9e83-4e36-916e-d0607f0b724a"
      },
      "outputs": [
        {
          "output_type": "stream",
          "name": "stdout",
          "text": [
            "Selecting previously unselected package libsuitesparseconfig5:amd64.\n",
            "(Reading database ... 128048 files and directories currently installed.)\n",
            "Preparing to unpack .../libsuitesparseconfig5_1%3a5.7.1+dfsg-2_amd64.deb ...\n",
            "Unpacking libsuitesparseconfig5:amd64 (1:5.7.1+dfsg-2) ...\n",
            "Selecting previously unselected package libamd2:amd64.\n",
            "Preparing to unpack .../libamd2_1%3a5.7.1+dfsg-2_amd64.deb ...\n",
            "Unpacking libamd2:amd64 (1:5.7.1+dfsg-2) ...\n",
            "Selecting previously unselected package libcolamd2:amd64.\n",
            "Preparing to unpack .../libcolamd2_1%3a5.7.1+dfsg-2_amd64.deb ...\n",
            "Unpacking libcolamd2:amd64 (1:5.7.1+dfsg-2) ...\n",
            "Selecting previously unselected package libglpk40:amd64.\n",
            "Preparing to unpack .../libglpk40_4.65-2_amd64.deb ...\n",
            "Unpacking libglpk40:amd64 (4.65-2) ...\n",
            "Selecting previously unselected package glpk-utils.\n",
            "Preparing to unpack .../glpk-utils_4.65-2_amd64.deb ...\n",
            "Unpacking glpk-utils (4.65-2) ...\n",
            "Setting up libsuitesparseconfig5:amd64 (1:5.7.1+dfsg-2) ...\n",
            "Setting up libamd2:amd64 (1:5.7.1+dfsg-2) ...\n",
            "Setting up libcolamd2:amd64 (1:5.7.1+dfsg-2) ...\n",
            "Setting up libglpk40:amd64 (4.65-2) ...\n",
            "Setting up glpk-utils (4.65-2) ...\n",
            "Processing triggers for man-db (2.9.1-1) ...\n",
            "Processing triggers for libc-bin (2.31-0ubuntu9.9) ...\n"
          ]
        }
      ],
      "source": [
        "!apt-get install -y -qq glpk-utils"
      ]
    },
    {
      "cell_type": "markdown",
      "id": "f9e2bda1",
      "metadata": {
        "id": "f9e2bda1"
      },
      "source": [
        "### Import the libraries. Specify that we will be using glpk solver from the SolverFactory()class or the pyomo library"
      ]
    },
    {
      "cell_type": "code",
      "execution_count": 7,
      "id": "4f1c411e",
      "metadata": {
        "id": "4f1c411e"
      },
      "outputs": [],
      "source": [
        "import os\n",
        "import pandas as pd\n",
        "import numpy as np\n",
        "import matplotlib.pyplot as plt\n",
        "from pyomo.environ import *\n",
        "opt = SolverFactory('cplex')"
      ]
    },
    {
      "cell_type": "code",
      "execution_count": 10,
      "id": "4ed9cb3a",
      "metadata": {
        "id": "4ed9cb3a"
      },
      "outputs": [],
      "source": [
        "#Change the working directory to the folder where all the data a nd files for this course are stored\n",
        "os.chdir('/content/gdrive/MyDrive/Colab Notebooks/ENV717-S2023')\n"
      ]
    },
    {
      "cell_type": "code",
      "source": [
        "#Read generators and demand data as two dataframes\n",
        "df_genData=pd.read_excel(io=\"L9-UCData.xlsx\",sheet_name=\"GeneratorsData\",skiprows=1) #read data from generators tab and skip the first row\n",
        "df_demandData=pd.read_excel(io=\"L9-UCData.xlsx\",sheet_name=\"DemandData\",skiprows=1) #read data from generators tab and skip the first row"
      ],
      "metadata": {
        "id": "nyxaigBQWIU5"
      },
      "id": "nyxaigBQWIU5",
      "execution_count": 11,
      "outputs": []
    },
    {
      "cell_type": "code",
      "execution_count": 12,
      "id": "925e990c",
      "metadata": {
        "colab": {
          "base_uri": "https://localhost:8080/"
        },
        "id": "925e990c",
        "outputId": "bbf213b6-c359-4383-b1ed-95d744bcd55b"
      },
      "outputs": [
        {
          "output_type": "stream",
          "name": "stdout",
          "text": [
            "We read technical parameters data for 2 power generating units\n",
            "We read demand data for 24 time periods\n"
          ]
        }
      ],
      "source": [
        "#define the size of the sets\n",
        "NumGen=len(df_genData)\n",
        "T=len(df_demandData)\n",
        "print(\"We read technical parameters data for\", NumGen, \"power generating units\")\n",
        "print(\"We read demand data for\", T, \"time periods\")"
      ]
    },
    {
      "cell_type": "code",
      "execution_count": 13,
      "id": "670ac82a",
      "metadata": {
        "id": "670ac82a"
      },
      "outputs": [],
      "source": [
        "#Define Indexes\n",
        "N=np.array([n for n in range(0,NumGen)]) #This array has 2 components, but the index starts at zero\n",
        "T=np.array([t for t in range(0,T)])"
      ]
    },
    {
      "cell_type": "code",
      "execution_count": 14,
      "id": "399505a0",
      "metadata": {
        "colab": {
          "base_uri": "https://localhost:8080/"
        },
        "id": "399505a0",
        "outputId": "5e06ce66-3f50-4362-a0f5-6aa675920cf2"
      },
      "outputs": [
        {
          "output_type": "execute_result",
          "data": {
            "text/plain": [
              "Index(['FixedCost', 'SDCost', 'SUCost', 'VarCost', 'MaxGen', 'MinGen',\n",
              "       'RampDown', 'RampSD', 'RampSU', 'RampUp', 'MinUpTime', 'MinDownTime',\n",
              "       'ReqUp', 'ReqDown', 'InitialStatus', 'InitialGen'],\n",
              "      dtype='object')"
            ]
          },
          "metadata": {},
          "execution_count": 14
        }
      ],
      "source": [
        "df_genData.columns"
      ]
    },
    {
      "cell_type": "code",
      "execution_count": 36,
      "id": "37971e90",
      "metadata": {
        "colab": {
          "base_uri": "https://localhost:8080/"
        },
        "id": "37971e90",
        "outputId": "512d320b-cff8-407b-d06b-a02b1b0df49a"
      },
      "outputs": [
        {
          "output_type": "stream",
          "name": "stdout",
          "text": [
            "The parameters of the generator with largest Gen capacity are FixedCost            6\n",
            "SDCost             400\n",
            "SUCost           11000\n",
            "VarCost             26\n",
            "MaxGen             600\n",
            "MinGen              60\n",
            "RampDown           200\n",
            "RampSD             600\n",
            "RampSU             200\n",
            "RampUp             100\n",
            "MinUpTime            0\n",
            "MinDownTime          0\n",
            "ReqUp                0\n",
            "ReqDown              0\n",
            "InitialStatus        1\n",
            "InitialGen         100\n",
            "Name: 1, dtype: int64\n",
            "The Name Plate Capacity of the largest generator is 600\n"
          ]
        }
      ],
      "source": [
        "#get the NamePlate capacity of the largest generator to use it as the upper bound of the pg,t, decision variables\n",
        "#This step is optional. You can leave pg,t unbounded.\n",
        "largestGen=df_genData.loc[df_genData[\"MaxGen\"].idxmax()] #largestGen is a series object \n",
        "print('The parameters of the generator with largest Gen capacity are',largestGen)\n",
        "MaxGenCapacity=largestGen.MaxGen \n",
        "print(\"The Name Plate Capacity of the largest generator is\",MaxGenCapacity)"
      ]
    },
    {
      "cell_type": "code",
      "execution_count": 29,
      "id": "254474ec",
      "metadata": {
        "id": "254474ec"
      },
      "outputs": [],
      "source": [
        "FixCost=df_genData.loc[:,'FixedCost'].to_numpy()\n",
        "SDCost=df_genData.loc[:,'SDCost'].to_numpy()\n",
        "SUCost=df_genData.loc[:,'SUCost'].to_numpy()\n",
        "VarCost=df_genData.loc[:,'VarCost'].to_numpy()\n",
        "PMax=df_genData.loc[:,'MaxGen'].to_numpy()\n",
        "PMin=df_genData.loc[:,'MinGen'].to_numpy()\n",
        "Demand=df_demandData.loc[:,'Demand'].to_numpy()"
      ]
    },
    {
      "cell_type": "code",
      "execution_count": 30,
      "id": "b7402090",
      "metadata": {
        "colab": {
          "base_uri": "https://localhost:8080/"
        },
        "id": "b7402090",
        "outputId": "22f4b154-23dd-4572-bf88-a3cd2a110a7f"
      },
      "outputs": [
        {
          "output_type": "stream",
          "name": "stdout",
          "text": [
            "[200 230 270 280 260 270 290 330 350 370 400 410 420 420 380 360 340 300\n",
            " 300 310 290 280 260 250]\n"
          ]
        }
      ],
      "source": [
        "print(Demand)"
      ]
    },
    {
      "cell_type": "code",
      "execution_count": 31,
      "id": "2182a4a2",
      "metadata": {
        "id": "2182a4a2"
      },
      "outputs": [],
      "source": [
        "#UC MODEL\n",
        "def Unit_Commitment():\n",
        "    m=ConcreteModel()\n",
        "    m.N=Set(initialize=N)\n",
        "    m.T=Set(initialize=T)\n",
        "    m.x=Var(m.N, m.T, bounds = (0,MaxGenCapacity))\n",
        "    m.u=Var(m.N, m.T, domain=Binary)\n",
        "    m.system_cost=Objective(expr=sum(m.x[n,t]*VarCost[n]+m.u[n,t]*FixCost[n] for n in m.N for t in m.T), sense=minimize)\n",
        "    m.DemandConstraint=Constraint(m.T, rule=lambda m, t: sum(m.x[n,t] for n in N) == Demand[t])\n",
        "    m.MinPower=Constraint(m.N, m.T, rule=lambda m, n, t: PMin[n]*m.u[n,t] <= m.x[n,t])\n",
        "    m.MaxPower=Constraint(m.N, m.T, rule=lambda m, n, t: PMax[n]*m.u[n,t] >= m.x[n,t])\n",
        "    return m"
      ]
    },
    {
      "cell_type": "code",
      "execution_count": 33,
      "id": "12df3ab3",
      "metadata": {
        "colab": {
          "base_uri": "https://localhost:8080/"
        },
        "id": "12df3ab3",
        "outputId": "c9d1adc7-a430-4f16-ac09-b287159adf35"
      },
      "outputs": [
        {
          "output_type": "stream",
          "name": "stdout",
          "text": [
            "# ==========================================================\n",
            "# = Solver Results                                         =\n",
            "# ==========================================================\n",
            "# ----------------------------------------------------------\n",
            "#   Problem Information\n",
            "# ----------------------------------------------------------\n",
            "Problem: \n",
            "- Name: unknown\n",
            "  Lower bound: 190336.0\n",
            "  Upper bound: 190336.0\n",
            "  Number of objectives: 1\n",
            "  Number of constraints: 121\n",
            "  Number of variables: 97\n",
            "  Number of nonzeros: 241\n",
            "  Sense: minimize\n",
            "# ----------------------------------------------------------\n",
            "#   Solver Information\n",
            "# ----------------------------------------------------------\n",
            "Solver: \n",
            "- Status: ok\n",
            "  Termination condition: optimal\n",
            "  Statistics: \n",
            "    Branch and bound: \n",
            "      Number of bounded subproblems: 9\n",
            "      Number of created subproblems: 9\n",
            "  Error rc: 0\n",
            "  Time: 0.02474069595336914\n",
            "# ----------------------------------------------------------\n",
            "#   Solution Information\n",
            "# ----------------------------------------------------------\n",
            "Solution: \n",
            "- number of solutions: 0\n",
            "  number of solutions displayed: 0\n"
          ]
        }
      ],
      "source": [
        "m=Unit_Commitment()\n",
        "SolverFactory('glpk').solve(m).write() # Instead of this line, write \"opt.solve(m)\" if model's details are not important"
      ]
    },
    {
      "cell_type": "code",
      "execution_count": 34,
      "id": "e2543438",
      "metadata": {
        "colab": {
          "base_uri": "https://localhost:8080/"
        },
        "id": "e2543438",
        "outputId": "5be4fc62-ea5d-4986-f2e7-d32bcdee415d"
      },
      "outputs": [
        {
          "output_type": "stream",
          "name": "stdout",
          "text": [
            "SOLUTION\n",
            "The total system cost is = $ 190336.0\n",
            "Commitment and Generation\n",
            "n =  0  t =  0   u[0,0] 1.0  200.00\n",
            "n =  0  t =  1   u[0,1] 1.0  230.00\n",
            "n =  0  t =  2   u[0,2] 1.0  270.00\n",
            "n =  0  t =  3   u[0,3] 1.0  280.00\n",
            "n =  0  t =  4   u[0,4] 1.0  260.00\n",
            "n =  0  t =  5   u[0,5] 1.0  270.00\n",
            "n =  0  t =  6   u[0,6] 1.0  290.00\n",
            "n =  0  t =  7   u[0,7] 1.0  270.00\n",
            "n =  0  t =  8   u[0,8] 1.0  290.00\n",
            "n =  0  t =  9   u[0,9] 1.0  300.00\n",
            "n =  0  t = 10   u[0,10] 1.0  300.00\n",
            "n =  0  t = 11   u[0,11] 1.0  300.00\n",
            "n =  0  t = 12   u[0,12] 1.0  300.00\n",
            "n =  0  t = 13   u[0,13] 1.0  300.00\n",
            "n =  0  t = 14   u[0,14] 1.0  300.00\n",
            "n =  0  t = 15   u[0,15] 1.0  300.00\n",
            "n =  0  t = 16   u[0,16] 1.0  280.00\n",
            "n =  0  t = 17   u[0,17] 1.0  300.00\n",
            "n =  0  t = 18   u[0,18] 1.0  300.00\n",
            "n =  0  t = 19   u[0,19] 1.0  250.00\n",
            "n =  0  t = 20   u[0,20] 1.0  290.00\n",
            "n =  0  t = 21   u[0,21] 1.0  280.00\n",
            "n =  0  t = 22   u[0,22] 1.0  260.00\n",
            "n =  0  t = 23   u[0,23] 1.0  250.00\n",
            "n =  1  t =  0   u[1,0] 0.0  0.00\n",
            "n =  1  t =  1   u[1,1] 0.0  0.00\n",
            "n =  1  t =  2   u[1,2] 0.0  0.00\n",
            "n =  1  t =  3   u[1,3] 0.0  0.00\n",
            "n =  1  t =  4   u[1,4] 0.0  0.00\n",
            "n =  1  t =  5   u[1,5] 0.0  0.00\n",
            "n =  1  t =  6   u[1,6] 0.0  0.00\n",
            "n =  1  t =  7   u[1,7] 1.0  60.00\n",
            "n =  1  t =  8   u[1,8] 1.0  60.00\n",
            "n =  1  t =  9   u[1,9] 1.0  70.00\n",
            "n =  1  t = 10   u[1,10] 1.0  100.00\n",
            "n =  1  t = 11   u[1,11] 1.0  110.00\n",
            "n =  1  t = 12   u[1,12] 1.0  120.00\n",
            "n =  1  t = 13   u[1,13] 1.0  120.00\n",
            "n =  1  t = 14   u[1,14] 1.0  80.00\n",
            "n =  1  t = 15   u[1,15] 1.0  60.00\n",
            "n =  1  t = 16   u[1,16] 1.0  60.00\n",
            "n =  1  t = 17   u[1,17] 0.0  0.00\n",
            "n =  1  t = 18   u[1,18] 0.0  0.00\n",
            "n =  1  t = 19   u[1,19] 1.0  60.00\n",
            "n =  1  t = 20   u[1,20] 0.0  0.00\n",
            "n =  1  t = 21   u[1,21] 0.0  0.00\n",
            "n =  1  t = 22   u[1,22] 0.0  0.00\n",
            "n =  1  t = 23   u[1,23] 0.0  0.00\n"
          ]
        }
      ],
      "source": [
        "print('SOLUTION')\n",
        "print('The total system cost is = $',m.system_cost())\n",
        "print('Commitment and Generation')\n",
        "for n in N:\n",
        "    for t in T:\n",
        "        print(\"n = {0:2d}  t = {1:2d}   {2} {3:.1f}  {4:.2f}\".format(n, t, m.u[n,t], m.u[n,t](), m.x[n,t]()))\n",
        "        #Line above makes columns the same width and formats the numbers of decimals for u and x. Line below has a messy format\n",
        "        #print(m.x[n,t],\" = \", m.x[n,t](), \"MWh\", m.u[n,t], \" =\", m.u[n,t]()) #this works too but format is messy"
      ]
    },
    {
      "cell_type": "code",
      "execution_count": 35,
      "id": "4b6b4ee4",
      "metadata": {
        "colab": {
          "base_uri": "https://localhost:8080/",
          "height": 189
        },
        "id": "4b6b4ee4",
        "outputId": "95479d06-e1ac-4d06-9583-44376988fe8d"
      },
      "outputs": [
        {
          "output_type": "display_data",
          "data": {
            "text/plain": [
              "<Figure size 576x180 with 2 Axes>"
            ],
            "image/png": "[encoded data removed]"
          },
          "metadata": {
            "needs_background": "light"
          }
        }
      ],
      "source": [
        "#Graph solution\n",
        "#For each power unit and time period, plot its power production and reference lines of Pmin and Pmax \n",
        "\n",
        "fig, ax = plt.subplots(max(N)+1, 1, figsize=(8, 1.5*max(N)+1)) #Create a matrix of subplots with max(N)+1 rows and 1 column\n",
        "for n in N:\n",
        "    ax[n].bar(T+1, [m.x[n,t]() for t in T])\n",
        "    ax[n].set_xlim(0, max(T)+2)\n",
        "    ax[n].set_ylim(0, 1.1*PMax[n])\n",
        "    ax[n].plot(ax[n].get_xlim(), np.array([PMax[n], PMax[n]]), 'r--')\n",
        "    ax[n].plot(ax[n].get_xlim(), np.array([PMin[n], PMin[n]]), 'r--')\n",
        "    ax[n].set_title('Unit ' + str(n+1))\n",
        "fig.tight_layout()"
      ]
    },
    {
      "cell_type": "code",
      "execution_count": null,
      "id": "f5998fae",
      "metadata": {
        "id": "f5998fae"
      },
      "outputs": [],
      "source": []
    }
  ],
  "metadata": {
    "kernelspec": {
      "display_name": "Python 3",
      "language": "python",
      "name": "python3"
    },
    "language_info": {
      "codemirror_mode": {
        "name": "ipython",
        "version": 3
      },
      "file_extension": ".py",
      "mimetype": "text/x-python",
      "name": "python",
      "nbconvert_exporter": "python",
      "pygments_lexer": "ipython3",
      "version": "3.8.8"
    },
    "colab": {
      "provenance": [],
      "include_colab_link": true
    }
  },
  "nbformat": 4,
  "nbformat_minor": 5
}