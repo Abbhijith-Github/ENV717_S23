{
 "cells": [
  {
   "cell_type": "markdown",
   "id": "45be5654",
   "metadata": {},
   "source": [
    "# ENV717 L5- MARKET CLEARING"
   ]
  },
  {
   "cell_type": "markdown",
   "id": "18ad7778",
   "metadata": {},
   "source": [
    "#### "
   ]
  },
  {
   "cell_type": "code",
   "execution_count": 76,
   "id": "4f1c411e",
   "metadata": {},
   "outputs": [],
   "source": [
    "import os\n",
    "import pandas as pd\n",
    "import numpy as np\n",
    "import matplotlib.pyplot as plt"
   ]
  },
  {
   "cell_type": "markdown",
   "id": "e61d4a6c",
   "metadata": {},
   "source": [
    "### Read the data"
   ]
  },
  {
   "cell_type": "code",
   "execution_count": 87,
   "id": "4ed9cb3a",
   "metadata": {},
   "outputs": [],
   "source": [
    "#Read data\n",
    "df_genData=pd.read_excel(io=\"L5MarketClearingData.xlsx\",sheet_name=\"GeneratorsData\",skiprows=1) #read data from generators tab and skip the first row\n",
    "df_demandData=pd.read_excel(io=\"L5MarketClearingData.xlsx\",sheet_name=\"DemandData\",skiprows=1) #read data from demand tab and skip the first row"
   ]
  },
  {
   "cell_type": "code",
   "execution_count": 88,
   "id": "925e990c",
   "metadata": {},
   "outputs": [
    {
     "name": "stdout",
     "output_type": "stream",
     "text": [
      "We read data for 4 generators/sellers\n",
      "We read data for 3 demands/buyers\n"
     ]
    }
   ],
   "source": [
    "#define the size of the sets\n",
    "NumGens=len(df_genData)\n",
    "NumDemands=len(df_demandData)\n",
    "print(\"We read data for\", NumGens, \"generators/sellers\")\n",
    "print(\"We read data for\", NumDemands, \"demands/buyers\")"
   ]
  },
  {
   "cell_type": "code",
   "execution_count": 89,
   "id": "e38860b9",
   "metadata": {},
   "outputs": [
    {
     "data": {
      "text/html": [
       "<div>\n",
       "<style scoped>\n",
       "    .dataframe tbody tr th:only-of-type {\n",
       "        vertical-align: middle;\n",
       "    }\n",
       "\n",
       "    .dataframe tbody tr th {\n",
       "        vertical-align: top;\n",
       "    }\n",
       "\n",
       "    .dataframe thead th {\n",
       "        text-align: right;\n",
       "    }\n",
       "</style>\n",
       "<table border=\"1\" class=\"dataframe\">\n",
       "  <thead>\n",
       "    <tr style=\"text-align: right;\">\n",
       "      <th></th>\n",
       "      <th>Company</th>\n",
       "      <th>Quantity(MW)</th>\n",
       "      <th>Price($/MWh)</th>\n",
       "    </tr>\n",
       "  </thead>\n",
       "  <tbody>\n",
       "    <tr>\n",
       "      <th>0</th>\n",
       "      <td>A</td>\n",
       "      <td>100</td>\n",
       "      <td>50</td>\n",
       "    </tr>\n",
       "    <tr>\n",
       "      <th>1</th>\n",
       "      <td>B</td>\n",
       "      <td>500</td>\n",
       "      <td>28</td>\n",
       "    </tr>\n",
       "    <tr>\n",
       "      <th>2</th>\n",
       "      <td>C</td>\n",
       "      <td>200</td>\n",
       "      <td>30</td>\n",
       "    </tr>\n",
       "    <tr>\n",
       "      <th>3</th>\n",
       "      <td>D</td>\n",
       "      <td>150</td>\n",
       "      <td>53</td>\n",
       "    </tr>\n",
       "  </tbody>\n",
       "</table>\n",
       "</div>"
      ],
      "text/plain": [
       "  Company  Quantity(MW)  Price($/MWh)\n",
       "0       A           100            50\n",
       "1       B           500            28\n",
       "2       C           200            30\n",
       "3       D           150            53"
      ]
     },
     "execution_count": 89,
     "metadata": {},
     "output_type": "execute_result"
    }
   ],
   "source": [
    "df_genData.head(NumGens)"
   ]
  },
  {
   "cell_type": "markdown",
   "id": "3ca2c424",
   "metadata": {},
   "source": [
    "### 1. Stack the generators by merit order - from least cost to highest"
   ]
  },
  {
   "cell_type": "code",
   "execution_count": 90,
   "id": "93cb4cbf",
   "metadata": {},
   "outputs": [
    {
     "data": {
      "text/html": [
       "<div>\n",
       "<style scoped>\n",
       "    .dataframe tbody tr th:only-of-type {\n",
       "        vertical-align: middle;\n",
       "    }\n",
       "\n",
       "    .dataframe tbody tr th {\n",
       "        vertical-align: top;\n",
       "    }\n",
       "\n",
       "    .dataframe thead th {\n",
       "        text-align: right;\n",
       "    }\n",
       "</style>\n",
       "<table border=\"1\" class=\"dataframe\">\n",
       "  <thead>\n",
       "    <tr style=\"text-align: right;\">\n",
       "      <th></th>\n",
       "      <th>Company</th>\n",
       "      <th>Quantity(MW)</th>\n",
       "      <th>Price($/MWh)</th>\n",
       "    </tr>\n",
       "  </thead>\n",
       "  <tbody>\n",
       "    <tr>\n",
       "      <th>1</th>\n",
       "      <td>B</td>\n",
       "      <td>500</td>\n",
       "      <td>28</td>\n",
       "    </tr>\n",
       "    <tr>\n",
       "      <th>2</th>\n",
       "      <td>C</td>\n",
       "      <td>200</td>\n",
       "      <td>30</td>\n",
       "    </tr>\n",
       "    <tr>\n",
       "      <th>0</th>\n",
       "      <td>A</td>\n",
       "      <td>100</td>\n",
       "      <td>50</td>\n",
       "    </tr>\n",
       "    <tr>\n",
       "      <th>3</th>\n",
       "      <td>D</td>\n",
       "      <td>150</td>\n",
       "      <td>53</td>\n",
       "    </tr>\n",
       "  </tbody>\n",
       "</table>\n",
       "</div>"
      ],
      "text/plain": [
       "  Company  Quantity(MW)  Price($/MWh)\n",
       "1       B           500            28\n",
       "2       C           200            30\n",
       "0       A           100            50\n",
       "3       D           150            53"
      ]
     },
     "execution_count": 90,
     "metadata": {},
     "output_type": "execute_result"
    }
   ],
   "source": [
    "SupplySorted=df_genData.sort_values(\"Price($/MWh)\")\n",
    "SupplySorted.head(NumGens)"
   ]
  },
  {
   "cell_type": "markdown",
   "id": "f9e6d6b6",
   "metadata": {},
   "source": [
    "### 2. Create supply curve"
   ]
  },
  {
   "cell_type": "code",
   "execution_count": 91,
   "id": "2a555453",
   "metadata": {},
   "outputs": [],
   "source": [
    "# Create a column with the cummulative capacity [MW] bid at that PRICE or less and initialize in zero\n",
    "SupplySorted[\"CUMCAP(MW)\"]=0"
   ]
  },
  {
   "cell_type": "code",
   "execution_count": 92,
   "id": "142c2dcf",
   "metadata": {},
   "outputs": [
    {
     "data": {
      "text/html": [
       "<div>\n",
       "<style scoped>\n",
       "    .dataframe tbody tr th:only-of-type {\n",
       "        vertical-align: middle;\n",
       "    }\n",
       "\n",
       "    .dataframe tbody tr th {\n",
       "        vertical-align: top;\n",
       "    }\n",
       "\n",
       "    .dataframe thead th {\n",
       "        text-align: right;\n",
       "    }\n",
       "</style>\n",
       "<table border=\"1\" class=\"dataframe\">\n",
       "  <thead>\n",
       "    <tr style=\"text-align: right;\">\n",
       "      <th></th>\n",
       "      <th>Company</th>\n",
       "      <th>Quantity(MW)</th>\n",
       "      <th>Price($/MWh)</th>\n",
       "      <th>CUMCAP(MW)</th>\n",
       "    </tr>\n",
       "  </thead>\n",
       "  <tbody>\n",
       "    <tr>\n",
       "      <th>1</th>\n",
       "      <td>B</td>\n",
       "      <td>500</td>\n",
       "      <td>28</td>\n",
       "      <td>0</td>\n",
       "    </tr>\n",
       "    <tr>\n",
       "      <th>2</th>\n",
       "      <td>C</td>\n",
       "      <td>200</td>\n",
       "      <td>30</td>\n",
       "      <td>0</td>\n",
       "    </tr>\n",
       "    <tr>\n",
       "      <th>0</th>\n",
       "      <td>A</td>\n",
       "      <td>100</td>\n",
       "      <td>50</td>\n",
       "      <td>0</td>\n",
       "    </tr>\n",
       "    <tr>\n",
       "      <th>3</th>\n",
       "      <td>D</td>\n",
       "      <td>150</td>\n",
       "      <td>53</td>\n",
       "      <td>0</td>\n",
       "    </tr>\n",
       "  </tbody>\n",
       "</table>\n",
       "</div>"
      ],
      "text/plain": [
       "  Company  Quantity(MW)  Price($/MWh)  CUMCAP(MW)\n",
       "1       B           500            28           0\n",
       "2       C           200            30           0\n",
       "0       A           100            50           0\n",
       "3       D           150            53           0"
      ]
     },
     "execution_count": 92,
     "metadata": {},
     "output_type": "execute_result"
    }
   ],
   "source": [
    "SupplySorted.head(NumGens)"
   ]
  },
  {
   "cell_type": "code",
   "execution_count": 93,
   "id": "0f943185",
   "metadata": {},
   "outputs": [
    {
     "data": {
      "text/html": [
       "<div>\n",
       "<style scoped>\n",
       "    .dataframe tbody tr th:only-of-type {\n",
       "        vertical-align: middle;\n",
       "    }\n",
       "\n",
       "    .dataframe tbody tr th {\n",
       "        vertical-align: top;\n",
       "    }\n",
       "\n",
       "    .dataframe thead th {\n",
       "        text-align: right;\n",
       "    }\n",
       "</style>\n",
       "<table border=\"1\" class=\"dataframe\">\n",
       "  <thead>\n",
       "    <tr style=\"text-align: right;\">\n",
       "      <th></th>\n",
       "      <th>Company</th>\n",
       "      <th>Quantity(MW)</th>\n",
       "      <th>Price($/MWh)</th>\n",
       "      <th>CUMCAP(MW)</th>\n",
       "    </tr>\n",
       "  </thead>\n",
       "  <tbody>\n",
       "    <tr>\n",
       "      <th>1</th>\n",
       "      <td>B</td>\n",
       "      <td>500</td>\n",
       "      <td>28</td>\n",
       "      <td>500</td>\n",
       "    </tr>\n",
       "    <tr>\n",
       "      <th>2</th>\n",
       "      <td>C</td>\n",
       "      <td>200</td>\n",
       "      <td>30</td>\n",
       "      <td>700</td>\n",
       "    </tr>\n",
       "    <tr>\n",
       "      <th>0</th>\n",
       "      <td>A</td>\n",
       "      <td>100</td>\n",
       "      <td>50</td>\n",
       "      <td>800</td>\n",
       "    </tr>\n",
       "    <tr>\n",
       "      <th>3</th>\n",
       "      <td>D</td>\n",
       "      <td>150</td>\n",
       "      <td>53</td>\n",
       "      <td>950</td>\n",
       "    </tr>\n",
       "  </tbody>\n",
       "</table>\n",
       "</div>"
      ],
      "text/plain": [
       "  Company  Quantity(MW)  Price($/MWh)  CUMCAP(MW)\n",
       "1       B           500            28         500\n",
       "2       C           200            30         700\n",
       "0       A           100            50         800\n",
       "3       D           150            53         950"
      ]
     },
     "execution_count": 93,
     "metadata": {},
     "output_type": "execute_result"
    }
   ],
   "source": [
    "# Fill the CUMCAP column. The first row is just the QUANTITY of that plant (in that row)\n",
    "SupplySorted.iloc[0,3]=SupplySorted.iloc[0,1]\n",
    "# Now walk through all the rows adding the cumulative capacity. Start at row 1 since row 0 has already the right CUMCAP\n",
    "for i in range (1,NumGens):  \n",
    "                SupplySorted.iloc[i,3]=SupplySorted.iloc[i-1,3]+SupplySorted.iloc[i,1]\n",
    "SupplySorted.head(NumGens)"
   ]
  },
  {
   "cell_type": "code",
   "execution_count": 94,
   "id": "e94f0cc2",
   "metadata": {},
   "outputs": [
    {
     "data": {
      "image/png": "[encoded data removed]",
      "text/plain": [
       "<Figure size 432x288 with 1 Axes>"
      ]
     },
     "metadata": {
      "needs_background": "light"
     },
     "output_type": "display_data"
    }
   ],
   "source": [
    "plt.step(SupplySorted[\"CUMCAP(MW)\"],SupplySorted[\"Price($/MWh)\"],label=\"SUPPLY\")\n",
    "plt.title(\"Supply curve\",fontsize=16)\n",
    "plt.xlabel(\"Cumulative Power Capacity (MW))\", fontsize=14)\n",
    "plt.ylabel(\"$/MWh\",fontsize=14)\n",
    "plt.legend(fontsize=12)\n",
    "plt.show()"
   ]
  },
  {
   "cell_type": "code",
   "execution_count": 95,
   "id": "563e7634",
   "metadata": {},
   "outputs": [
    {
     "name": "stdout",
     "output_type": "stream",
     "text": [
      "  Company  Quantity(MW)  Price($/MWh)  CUMCAP(MW)\n",
      "0                     0            28           0\n",
      "1       B           500            28         500\n",
      "2       C           200            30         700\n",
      "3       A           100            50         800\n",
      "4       D           150            53         950\n"
     ]
    }
   ],
   "source": [
    "## Add o first row that shows that any quantity below 500 can be purchased at the least cost\n",
    "new_row = pd.DataFrame({'Company':'', 'Quantity(MW)':0, 'Price($/MWh)':28, 'CUMCAP(MW)':0}, index=[0])\n",
    "SupplySorted = pd.concat([new_row,SupplySorted[:]]).reset_index(drop=True)\n",
    "print (SupplySorted)"
   ]
  },
  {
   "cell_type": "code",
   "execution_count": 96,
   "id": "239fe65c",
   "metadata": {},
   "outputs": [
    {
     "data": {
      "image/png": "[encoded data removed]",
      "text/plain": [
       "<Figure size 432x288 with 1 Axes>"
      ]
     },
     "metadata": {
      "needs_background": "light"
     },
     "output_type": "display_data"
    }
   ],
   "source": [
    "plt.step(SupplySorted[\"CUMCAP(MW)\"],SupplySorted[\"Price($/MWh)\"],label=\"SUPPLY\")\n",
    "plt.title(\"Supply curve\",fontsize=16)\n",
    "plt.xlabel(\"Cumulative Power Capacity (MW))\", fontsize=14)\n",
    "plt.ylabel(\"$/MWh\",fontsize=14)\n",
    "plt.legend(fontsize=12)\n",
    "plt.show()"
   ]
  },
  {
   "cell_type": "markdown",
   "id": "6fcdcc26",
   "metadata": {},
   "source": [
    "### 3. Stack demands from highest offer to lowest"
   ]
  },
  {
   "cell_type": "code",
   "execution_count": 45,
   "id": "6710ac9f",
   "metadata": {},
   "outputs": [
    {
     "data": {
      "text/html": [
       "<div>\n",
       "<style scoped>\n",
       "    .dataframe tbody tr th:only-of-type {\n",
       "        vertical-align: middle;\n",
       "    }\n",
       "\n",
       "    .dataframe tbody tr th {\n",
       "        vertical-align: top;\n",
       "    }\n",
       "\n",
       "    .dataframe thead th {\n",
       "        text-align: right;\n",
       "    }\n",
       "</style>\n",
       "<table border=\"1\" class=\"dataframe\">\n",
       "  <thead>\n",
       "    <tr style=\"text-align: right;\">\n",
       "      <th></th>\n",
       "      <th>Company</th>\n",
       "      <th>Quantity (MW)</th>\n",
       "      <th>Price($/MWh)</th>\n",
       "    </tr>\n",
       "  </thead>\n",
       "  <tbody>\n",
       "    <tr>\n",
       "      <th>2</th>\n",
       "      <td>G</td>\n",
       "      <td>100</td>\n",
       "      <td>50</td>\n",
       "    </tr>\n",
       "    <tr>\n",
       "      <th>0</th>\n",
       "      <td>E</td>\n",
       "      <td>500</td>\n",
       "      <td>40</td>\n",
       "    </tr>\n",
       "    <tr>\n",
       "      <th>1</th>\n",
       "      <td>F</td>\n",
       "      <td>300</td>\n",
       "      <td>29</td>\n",
       "    </tr>\n",
       "  </tbody>\n",
       "</table>\n",
       "</div>"
      ],
      "text/plain": [
       "  Company  Quantity (MW)  Price($/MWh)\n",
       "2       G            100            50\n",
       "0       E            500            40\n",
       "1       F            300            29"
      ]
     },
     "execution_count": 45,
     "metadata": {},
     "output_type": "execute_result"
    }
   ],
   "source": [
    "DemandSorted=df_demandData.sort_values(\"Price($/MWh)\",ascending=False) #use ascending parameter to sort from high to low\n",
    "DemandSorted.head(NumDemands)"
   ]
  },
  {
   "cell_type": "markdown",
   "id": "28401e9a",
   "metadata": {},
   "source": [
    "### 4. Create demand curve"
   ]
  },
  {
   "cell_type": "code",
   "execution_count": 46,
   "id": "f6031c2f",
   "metadata": {},
   "outputs": [],
   "source": [
    "# Create a column with the cummulative capacity [MW] offered to be puchased at that PRICE or less and initialize in zero\n",
    "DemandSorted[\"CUMCAP(MW)\"]=0"
   ]
  },
  {
   "cell_type": "code",
   "execution_count": 47,
   "id": "7aeec6ac",
   "metadata": {},
   "outputs": [
    {
     "data": {
      "text/html": [
       "<div>\n",
       "<style scoped>\n",
       "    .dataframe tbody tr th:only-of-type {\n",
       "        vertical-align: middle;\n",
       "    }\n",
       "\n",
       "    .dataframe tbody tr th {\n",
       "        vertical-align: top;\n",
       "    }\n",
       "\n",
       "    .dataframe thead th {\n",
       "        text-align: right;\n",
       "    }\n",
       "</style>\n",
       "<table border=\"1\" class=\"dataframe\">\n",
       "  <thead>\n",
       "    <tr style=\"text-align: right;\">\n",
       "      <th></th>\n",
       "      <th>Company</th>\n",
       "      <th>Quantity (MW)</th>\n",
       "      <th>Price($/MWh)</th>\n",
       "      <th>CUMCAP(MW)</th>\n",
       "    </tr>\n",
       "  </thead>\n",
       "  <tbody>\n",
       "    <tr>\n",
       "      <th>2</th>\n",
       "      <td>G</td>\n",
       "      <td>100</td>\n",
       "      <td>50</td>\n",
       "      <td>0</td>\n",
       "    </tr>\n",
       "    <tr>\n",
       "      <th>0</th>\n",
       "      <td>E</td>\n",
       "      <td>500</td>\n",
       "      <td>40</td>\n",
       "      <td>0</td>\n",
       "    </tr>\n",
       "    <tr>\n",
       "      <th>1</th>\n",
       "      <td>F</td>\n",
       "      <td>300</td>\n",
       "      <td>29</td>\n",
       "      <td>0</td>\n",
       "    </tr>\n",
       "  </tbody>\n",
       "</table>\n",
       "</div>"
      ],
      "text/plain": [
       "  Company  Quantity (MW)  Price($/MWh)  CUMCAP(MW)\n",
       "2       G            100            50           0\n",
       "0       E            500            40           0\n",
       "1       F            300            29           0"
      ]
     },
     "execution_count": 47,
     "metadata": {},
     "output_type": "execute_result"
    }
   ],
   "source": [
    "DemandSorted.head(NumDemands)"
   ]
  },
  {
   "cell_type": "code",
   "execution_count": 48,
   "id": "9fb94d02",
   "metadata": {},
   "outputs": [
    {
     "data": {
      "text/html": [
       "<div>\n",
       "<style scoped>\n",
       "    .dataframe tbody tr th:only-of-type {\n",
       "        vertical-align: middle;\n",
       "    }\n",
       "\n",
       "    .dataframe tbody tr th {\n",
       "        vertical-align: top;\n",
       "    }\n",
       "\n",
       "    .dataframe thead th {\n",
       "        text-align: right;\n",
       "    }\n",
       "</style>\n",
       "<table border=\"1\" class=\"dataframe\">\n",
       "  <thead>\n",
       "    <tr style=\"text-align: right;\">\n",
       "      <th></th>\n",
       "      <th>Company</th>\n",
       "      <th>Quantity (MW)</th>\n",
       "      <th>Price($/MWh)</th>\n",
       "      <th>CUMCAP(MW)</th>\n",
       "    </tr>\n",
       "  </thead>\n",
       "  <tbody>\n",
       "    <tr>\n",
       "      <th>2</th>\n",
       "      <td>G</td>\n",
       "      <td>100</td>\n",
       "      <td>50</td>\n",
       "      <td>100</td>\n",
       "    </tr>\n",
       "    <tr>\n",
       "      <th>0</th>\n",
       "      <td>E</td>\n",
       "      <td>500</td>\n",
       "      <td>40</td>\n",
       "      <td>600</td>\n",
       "    </tr>\n",
       "    <tr>\n",
       "      <th>1</th>\n",
       "      <td>F</td>\n",
       "      <td>300</td>\n",
       "      <td>29</td>\n",
       "      <td>900</td>\n",
       "    </tr>\n",
       "  </tbody>\n",
       "</table>\n",
       "</div>"
      ],
      "text/plain": [
       "  Company  Quantity (MW)  Price($/MWh)  CUMCAP(MW)\n",
       "2       G            100            50         100\n",
       "0       E            500            40         600\n",
       "1       F            300            29         900"
      ]
     },
     "execution_count": 48,
     "metadata": {},
     "output_type": "execute_result"
    }
   ],
   "source": [
    "# Fill the CUMCAP column. The first row is just the QUANTITY of that demand (in that row)\n",
    "DemandSorted.iloc[0,3]=DemandSorted.iloc[0,1]\n",
    "# Now walk through all the rows adding the cumulative capacity. Start at row 1 since row 0 has already the right CUMCAP\n",
    "for i in range (1,NumDemands):  \n",
    "                DemandSorted.iloc[i,3]=DemandSorted.iloc[i-1,3]+DemandSorted.iloc[i,1]\n",
    "DemandSorted.head(NumDemands)"
   ]
  },
  {
   "cell_type": "code",
   "execution_count": 97,
   "id": "2c887aff",
   "metadata": {},
   "outputs": [
    {
     "data": {
      "image/png": "[encoded data removed]",
      "text/plain": [
       "<Figure size 432x288 with 1 Axes>"
      ]
     },
     "metadata": {
      "needs_background": "light"
     },
     "output_type": "display_data"
    }
   ],
   "source": [
    "plt.step(DemandSorted[\"CUMCAP(MW)\"],DemandSorted[\"Price($/MWh)\"],label=\"DEMAND\",color=\"black\")\n",
    "plt.title(\"Demand curve\",fontsize=16)\n",
    "plt.xlabel(\"Cumulative Power Capacity (MW))\", fontsize=14)\n",
    "plt.ylabel(\"$/MWh\",fontsize=14)\n",
    "plt.legend(fontsize=12)\n",
    "plt.show()"
   ]
  },
  {
   "cell_type": "code",
   "execution_count": 98,
   "id": "f8967b7e",
   "metadata": {},
   "outputs": [
    {
     "name": "stdout",
     "output_type": "stream",
     "text": [
      "  Company  Quantity(MW)  Price($/MWh)  CUMCAP(MW)  Quantity (MW)\n",
      "0                   0.0            28           0            NaN\n",
      "1       G           NaN            50         100          100.0\n",
      "2       E           NaN            40         600          500.0\n",
      "3       F           NaN            29         900          300.0\n"
     ]
    }
   ],
   "source": [
    "## Add o first row that shows that any quantity below 100 can be purchased at the highest offered price\n",
    "new_row = pd.DataFrame({'Company':'', 'Quantity(MW)':0, 'Price($/MWh)':28, 'CUMCAP(MW)':0}, index=[0])\n",
    "DemandSorted = pd.concat([new_row,DemandSorted[:]]).reset_index(drop=True)\n",
    "print (DemandSorted)"
   ]
  },
  {
   "cell_type": "code",
   "execution_count": 99,
   "id": "956cee02",
   "metadata": {},
   "outputs": [
    {
     "data": {
      "image/png": "[encoded data removed]",
      "text/plain": [
       "<Figure size 432x288 with 1 Axes>"
      ]
     },
     "metadata": {
      "needs_background": "light"
     },
     "output_type": "display_data"
    }
   ],
   "source": [
    "plt.step(DemandSorted[\"CUMCAP(MW)\"],DemandSorted[\"Price($/MWh)\"],label=\"DEMAND\",color=\"black\")\n",
    "plt.title(\"Demand curve\",fontsize=16)\n",
    "plt.xlabel(\"Cumulative Power Capacity (MW))\", fontsize=14)\n",
    "plt.ylabel(\"$/MWh\",fontsize=14)\n",
    "plt.legend(fontsize=12)\n",
    "plt.show()"
   ]
  },
  {
   "cell_type": "code",
   "execution_count": 101,
   "id": "e22b562a",
   "metadata": {},
   "outputs": [
    {
     "data": {
      "image/png": "[encoded data removed]",
      "text/plain": [
       "<Figure size 432x288 with 1 Axes>"
      ]
     },
     "metadata": {
      "needs_background": "light"
     },
     "output_type": "display_data"
    }
   ],
   "source": [
    "plt.step(DemandSorted[\"CUMCAP(MW)\"],DemandSorted[\"Price($/MWh)\"],label=\"DEMAND\",color=\"black\")\n",
    "plt.step(SupplySorted[\"CUMCAP(MW)\"],SupplySorted[\"Price($/MWh)\"],label=\"SUPPLY\",color=\"blue\")\n",
    "plt.title(\"Demand AND supply curves\",fontsize=16)\n",
    "plt.xlabel(\"Cumulative Power Capacity (MW))\", fontsize=14)\n",
    "plt.ylabel(\"$/MWh\",fontsize=14)\n",
    "plt.legend(fontsize=12)\n",
    "plt.show()"
   ]
  },
  {
   "cell_type": "code",
   "execution_count": null,
   "id": "cc029ead",
   "metadata": {},
   "outputs": [],
   "source": []
  }
 ],
 "metadata": {
  "kernelspec": {
   "display_name": "Python 3",
   "language": "python",
   "name": "python3"
  },
  "language_info": {
   "codemirror_mode": {
    "name": "ipython",
    "version": 3
   },
   "file_extension": ".py",
   "mimetype": "text/x-python",
   "name": "python",
   "nbconvert_exporter": "python",
   "pygments_lexer": "ipython3",
   "version": "3.8.8"
  }
 },
 "nbformat": 4,
 "nbformat_minor": 5
}
